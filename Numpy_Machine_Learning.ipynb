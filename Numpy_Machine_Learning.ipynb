{
  "nbformat": 4,
  "nbformat_minor": 0,
  "metadata": {
    "colab": {
      "provenance": []
    },
    "kernelspec": {
      "name": "python3",
      "display_name": "Python 3"
    },
    "language_info": {
      "name": "python"
    }
  },
  "cells": [
    {
      "cell_type": "markdown",
      "source": [
        "# ***INSTALLATION OF NUMPY***"
      ],
      "metadata": {
        "id": "lQjIrk3bMeEW"
      }
    },
    {
      "cell_type": "code",
      "execution_count": 5,
      "metadata": {
        "colab": {
          "base_uri": "https://localhost:8080/"
        },
        "id": "tYF6AX6SKYad",
        "outputId": "c3cf562c-862c-4bc0-e36e-46c3e1e4b49d"
      },
      "outputs": [
        {
          "output_type": "stream",
          "name": "stdout",
          "text": [
            "Looking in indexes: https://pypi.org/simple, https://us-python.pkg.dev/colab-wheels/public/simple/\n",
            "Requirement already satisfied: numpy in /usr/local/lib/python3.10/dist-packages (1.22.4)\n"
          ]
        }
      ],
      "source": [
        "!pip install numpy"
      ]
    },
    {
      "cell_type": "code",
      "source": [
        "####numpy"
      ],
      "metadata": {
        "id": "_r8MNDf8KyYd"
      },
      "execution_count": 6,
      "outputs": []
    },
    {
      "cell_type": "code",
      "source": [
        "import numpy as np"
      ],
      "metadata": {
        "id": "G-ChwklbLDoL"
      },
      "execution_count": 7,
      "outputs": []
    },
    {
      "cell_type": "markdown",
      "source": [
        "# ***CREATING AN NUMPY ARRAY***"
      ],
      "metadata": {
        "id": "QyShUrinMqbS"
      }
    },
    {
      "cell_type": "code",
      "source": [
        "arr = np.array([1,2,3,4,5])"
      ],
      "metadata": {
        "id": "DMvc9JqaLI-d"
      },
      "execution_count": 8,
      "outputs": []
    },
    {
      "cell_type": "markdown",
      "source": [
        "# ***CHECKING DATA TYPE OF ARR VARIABLE***"
      ],
      "metadata": {
        "id": "9RG_byO3Myd1"
      }
    },
    {
      "cell_type": "code",
      "source": [
        "type(arr)"
      ],
      "metadata": {
        "colab": {
          "base_uri": "https://localhost:8080/"
        },
        "id": "Eb86jQGlLRd4",
        "outputId": "7848bafe-e427-4eee-a82c-33e6d36854e1"
      },
      "execution_count": 9,
      "outputs": [
        {
          "output_type": "execute_result",
          "data": {
            "text/plain": [
              "numpy.ndarray"
            ]
          },
          "metadata": {},
          "execution_count": 9
        }
      ]
    },
    {
      "cell_type": "markdown",
      "source": [
        "# ***TO CHECK DIMENSIONALITY***"
      ],
      "metadata": {
        "id": "wxw9lHwXNBZS"
      }
    },
    {
      "cell_type": "code",
      "source": [
        "arr.shape"
      ],
      "metadata": {
        "colab": {
          "base_uri": "https://localhost:8080/"
        },
        "id": "gGvsziTVML3I",
        "outputId": "c930ad80-e0d7-4896-90f0-bd2c7420d854"
      },
      "execution_count": 10,
      "outputs": [
        {
          "output_type": "execute_result",
          "data": {
            "text/plain": [
              "(5,)"
            ]
          },
          "metadata": {},
          "execution_count": 10
        }
      ]
    },
    {
      "cell_type": "markdown",
      "source": [
        "# ***TO CREATE  2 DIMENSIONAL DATA***"
      ],
      "metadata": {
        "id": "Jtg8l9VTNntF"
      }
    },
    {
      "cell_type": "code",
      "source": [
        "arr1 = np.array([[1,2,3],[4,5,6]])"
      ],
      "metadata": {
        "id": "gEH0pSOVNHCy"
      },
      "execution_count": 11,
      "outputs": []
    },
    {
      "cell_type": "code",
      "source": [
        "type(arr1)"
      ],
      "metadata": {
        "colab": {
          "base_uri": "https://localhost:8080/"
        },
        "id": "eT1pA33_NTCN",
        "outputId": "226d067f-ca58-4b5f-adbf-7a8cf7196c10"
      },
      "execution_count": 12,
      "outputs": [
        {
          "output_type": "execute_result",
          "data": {
            "text/plain": [
              "numpy.ndarray"
            ]
          },
          "metadata": {},
          "execution_count": 12
        }
      ]
    },
    {
      "cell_type": "code",
      "source": [
        "arr1.shape"
      ],
      "metadata": {
        "colab": {
          "base_uri": "https://localhost:8080/"
        },
        "id": "vZz15CF8Nd70",
        "outputId": "73c5e3da-66ad-4f49-e216-5521af22a17d"
      },
      "execution_count": 14,
      "outputs": [
        {
          "output_type": "execute_result",
          "data": {
            "text/plain": [
              "(2, 3)"
            ]
          },
          "metadata": {},
          "execution_count": 14
        }
      ]
    },
    {
      "cell_type": "markdown",
      "source": [
        "# ***Numpy creates element wise calculation***"
      ],
      "metadata": {
        "id": "xkszRDX8OaWt"
      }
    },
    {
      "cell_type": "code",
      "source": [
        "b=np.arange(10)"
      ],
      "metadata": {
        "id": "owDW92Q8OQVe"
      },
      "execution_count": 15,
      "outputs": []
    },
    {
      "cell_type": "code",
      "source": [
        "print(b)"
      ],
      "metadata": {
        "id": "T4aSlX8cOnmz"
      },
      "execution_count": null,
      "outputs": []
    },
    {
      "cell_type": "code",
      "source": [
        "b1 = b+2"
      ],
      "metadata": {
        "id": "M2SgwrYrOpmZ"
      },
      "execution_count": 17,
      "outputs": []
    },
    {
      "cell_type": "code",
      "source": [
        "print(b1)"
      ],
      "metadata": {
        "id": "_-W-ekRpO43B",
        "outputId": "228976af-a842-431d-cbfe-47cffe6fa7d0",
        "colab": {
          "base_uri": "https://localhost:8080/"
        }
      },
      "execution_count": 18,
      "outputs": [
        {
          "output_type": "stream",
          "name": "stdout",
          "text": [
            "[ 2  3  4  5  6  7  8  9 10 11]\n"
          ]
        }
      ]
    },
    {
      "cell_type": "markdown",
      "source": [
        "# ***SINGLE ELEMENT***"
      ],
      "metadata": {
        "id": "mbrYaTWwQWGX"
      }
    },
    {
      "cell_type": "code",
      "source": [
        "a=np.array([2,3,4,5,6,7,8,9,10,11])"
      ],
      "metadata": {
        "id": "RSEizwh4O6lI"
      },
      "execution_count": 19,
      "outputs": []
    },
    {
      "cell_type": "code",
      "source": [
        "print(a)"
      ],
      "metadata": {
        "colab": {
          "base_uri": "https://localhost:8080/"
        },
        "id": "Sesm6tQgQgVl",
        "outputId": "59b84620-a885-42a3-b536-9dc3027049b8"
      },
      "execution_count": 20,
      "outputs": [
        {
          "output_type": "stream",
          "name": "stdout",
          "text": [
            "[ 2  3  4  5  6  7  8  9 10 11]\n"
          ]
        }
      ]
    },
    {
      "cell_type": "code",
      "source": [
        "a[0]"
      ],
      "metadata": {
        "colab": {
          "base_uri": "https://localhost:8080/"
        },
        "id": "7UxML9bZQilL",
        "outputId": "f3e4811d-de2c-4a28-9b78-a4f3c2ddb4a3"
      },
      "execution_count": 21,
      "outputs": [
        {
          "output_type": "execute_result",
          "data": {
            "text/plain": [
              "2"
            ]
          },
          "metadata": {},
          "execution_count": 21
        }
      ]
    },
    {
      "cell_type": "code",
      "source": [
        "a[1]"
      ],
      "metadata": {
        "colab": {
          "base_uri": "https://localhost:8080/"
        },
        "id": "87kB2A69QnYY",
        "outputId": "56b13101-dc72-4b4b-e05e-90123ee30a42"
      },
      "execution_count": 22,
      "outputs": [
        {
          "output_type": "execute_result",
          "data": {
            "text/plain": [
              "3"
            ]
          },
          "metadata": {},
          "execution_count": 22
        }
      ]
    },
    {
      "cell_type": "code",
      "source": [
        "a[2]"
      ],
      "metadata": {
        "colab": {
          "base_uri": "https://localhost:8080/"
        },
        "id": "IAkZ4OjsQo2u",
        "outputId": "f064c09b-0192-482d-c4df-3eb75a182593"
      },
      "execution_count": 23,
      "outputs": [
        {
          "output_type": "execute_result",
          "data": {
            "text/plain": [
              "4"
            ]
          },
          "metadata": {},
          "execution_count": 23
        }
      ]
    },
    {
      "cell_type": "code",
      "source": [
        "a[3]"
      ],
      "metadata": {
        "colab": {
          "base_uri": "https://localhost:8080/"
        },
        "id": "5jEkjkaZQq9k",
        "outputId": "fd180c97-9228-45ae-d3d6-2b2c3850d96a"
      },
      "execution_count": 24,
      "outputs": [
        {
          "output_type": "execute_result",
          "data": {
            "text/plain": [
              "5"
            ]
          },
          "metadata": {},
          "execution_count": 24
        }
      ]
    },
    {
      "cell_type": "code",
      "source": [
        "a[4]"
      ],
      "metadata": {
        "colab": {
          "base_uri": "https://localhost:8080/"
        },
        "id": "MEH9iWGiQutr",
        "outputId": "38432334-b143-40f7-bb30-b4eff6393f0a"
      },
      "execution_count": 25,
      "outputs": [
        {
          "output_type": "execute_result",
          "data": {
            "text/plain": [
              "6"
            ]
          },
          "metadata": {},
          "execution_count": 25
        }
      ]
    },
    {
      "cell_type": "markdown",
      "source": [
        "# *THIS IS FORWARDING INDEX ⏫***"
      ],
      "metadata": {
        "id": "tjiTFe61Q1PV"
      }
    },
    {
      "cell_type": "markdown",
      "source": [
        "# ***KNOWING THE INDEX POSITION VARIABLES ⏬ ***"
      ],
      "metadata": {
        "id": "IVuuA3XFRZbG"
      }
    },
    {
      "cell_type": "code",
      "source": [
        "a[[0,2,4]]"
      ],
      "metadata": {
        "colab": {
          "base_uri": "https://localhost:8080/"
        },
        "id": "nn1Da24ZQxUm",
        "outputId": "ca80eb6e-35f6-4cec-a229-771195bf3dea"
      },
      "execution_count": 26,
      "outputs": [
        {
          "output_type": "execute_result",
          "data": {
            "text/plain": [
              "array([2, 4, 6])"
            ]
          },
          "metadata": {},
          "execution_count": 26
        }
      ]
    },
    {
      "cell_type": "markdown",
      "source": [
        "# ***slicing the data***"
      ],
      "metadata": {
        "id": "1hpy3eRJfWnO"
      }
    },
    {
      "cell_type": "code",
      "source": [
        "arr2=np.array([1,2,3,4,5,6,7,8,9,10])"
      ],
      "metadata": {
        "id": "6X61v8CrRtgf"
      },
      "execution_count": 30,
      "outputs": []
    },
    {
      "cell_type": "code",
      "source": [
        "arr2[0:7:1]"
      ],
      "metadata": {
        "colab": {
          "base_uri": "https://localhost:8080/"
        },
        "id": "n4H2M4-Idqkc",
        "outputId": "a398c158-a872-4f36-95c0-a22cf7a0b29a"
      },
      "execution_count": 31,
      "outputs": [
        {
          "output_type": "execute_result",
          "data": {
            "text/plain": [
              "array([1, 2, 3, 4, 5, 6, 7])"
            ]
          },
          "metadata": {},
          "execution_count": 31
        }
      ]
    },
    {
      "cell_type": "markdown",
      "source": [
        "lot of data in terms of dimensionality"
      ],
      "metadata": {
        "id": "Is0OOY9Ifsv2"
      }
    },
    {
      "cell_type": "code",
      "source": [
        "arr3=np.array([[0,1,2],[3,4,5],[6,7,8],[9,10,11]])"
      ],
      "metadata": {
        "id": "ZccFo1LsfPwH"
      },
      "execution_count": 33,
      "outputs": []
    },
    {
      "cell_type": "code",
      "source": [
        "print(arr3)"
      ],
      "metadata": {
        "colab": {
          "base_uri": "https://localhost:8080/"
        },
        "id": "wsPjLVqAf9PJ",
        "outputId": "8f88d90d-a847-4142-a435-fa8221347dc4"
      },
      "execution_count": 34,
      "outputs": [
        {
          "output_type": "stream",
          "name": "stdout",
          "text": [
            "[[ 0  1  2]\n",
            " [ 3  4  5]\n",
            " [ 6  7  8]\n",
            " [ 9 10 11]]\n"
          ]
        }
      ]
    },
    {
      "cell_type": "code",
      "source": [
        "arr3[0:4,0:4]"
      ],
      "metadata": {
        "colab": {
          "base_uri": "https://localhost:8080/"
        },
        "id": "Id6gxMJqgDv2",
        "outputId": "fbba94e2-8ebd-40dd-e640-ed3e73c3658d"
      },
      "execution_count": 36,
      "outputs": [
        {
          "output_type": "execute_result",
          "data": {
            "text/plain": [
              "array([[ 0,  1,  2],\n",
              "       [ 3,  4,  5],\n",
              "       [ 6,  7,  8],\n",
              "       [ 9, 10, 11]])"
            ]
          },
          "metadata": {},
          "execution_count": 36
        }
      ]
    },
    {
      "cell_type": "markdown",
      "source": [
        "Functions coming with the numpy package when you installed"
      ],
      "metadata": {
        "id": "FndSDeEahfiZ"
      }
    },
    {
      "cell_type": "code",
      "source": [
        "b= np.arange(10)"
      ],
      "metadata": {
        "id": "Lg67i2fYgzSo"
      },
      "execution_count": 39,
      "outputs": []
    },
    {
      "cell_type": "code",
      "source": [
        "print(np.random.random())"
      ],
      "metadata": {
        "colab": {
          "base_uri": "https://localhost:8080/"
        },
        "id": "ydQCdFOyhX4T",
        "outputId": "2fd665ad-b8bb-454a-b2d4-2a182258f688"
      },
      "execution_count": 43,
      "outputs": [
        {
          "output_type": "stream",
          "name": "stdout",
          "text": [
            "0.22326582306961018\n"
          ]
        }
      ]
    },
    {
      "cell_type": "code",
      "source": [
        "np.random.seed(10)\n",
        "print(np.random.random())"
      ],
      "metadata": {
        "colab": {
          "base_uri": "https://localhost:8080/"
        },
        "id": "htyKJp5Ghc38",
        "outputId": "0d6dac2c-6b36-4591-c7bb-bdc25dc7c08c"
      },
      "execution_count": 56,
      "outputs": [
        {
          "output_type": "stream",
          "name": "stdout",
          "text": [
            "0.771320643266746\n"
          ]
        }
      ]
    },
    {
      "cell_type": "markdown",
      "source": [
        "random.randint"
      ],
      "metadata": {
        "id": "30ZD5fJsihxq"
      }
    },
    {
      "cell_type": "code",
      "source": [
        "a=np.random.randint(low=1,high=10,size=4)"
      ],
      "metadata": {
        "id": "nGo3QAesh-ZF"
      },
      "execution_count": 62,
      "outputs": []
    },
    {
      "cell_type": "code",
      "source": [
        "print(a)"
      ],
      "metadata": {
        "colab": {
          "base_uri": "https://localhost:8080/"
        },
        "id": "kr1PupLyiDzh",
        "outputId": "104d4c7e-c8cb-4e67-c655-cca84eedcbb8"
      },
      "execution_count": 63,
      "outputs": [
        {
          "output_type": "stream",
          "name": "stdout",
          "text": [
            "[9 2 9 5]\n"
          ]
        }
      ]
    },
    {
      "cell_type": "markdown",
      "source": [
        "important function in numpy"
      ],
      "metadata": {
        "id": "v9rePB6Li8vC"
      }
    },
    {
      "cell_type": "code",
      "source": [
        "a=np.arange(30)"
      ],
      "metadata": {
        "id": "q7Jaw5Fqiv7B"
      },
      "execution_count": 64,
      "outputs": []
    },
    {
      "cell_type": "code",
      "source": [
        "print(a)"
      ],
      "metadata": {
        "colab": {
          "base_uri": "https://localhost:8080/"
        },
        "id": "xB6aZLx9jDlZ",
        "outputId": "f9cdc520-0917-4839-bd89-ff21f72506cc"
      },
      "execution_count": 67,
      "outputs": [
        {
          "output_type": "stream",
          "name": "stdout",
          "text": [
            "[ 0  1  2  3  4  5  6  7  8  9 10 11 12 13 14 15 16 17 18 19 20 21 22 23\n",
            " 24 25 26 27 28 29]\n"
          ]
        }
      ]
    },
    {
      "cell_type": "markdown",
      "source": [
        "creating in matrix form"
      ],
      "metadata": {
        "id": "XYW9NCX_jUBB"
      }
    },
    {
      "cell_type": "code",
      "source": [
        "x=a.reshape(3,10)"
      ],
      "metadata": {
        "id": "p_JqpQ8hjFIR"
      },
      "execution_count": 68,
      "outputs": []
    },
    {
      "cell_type": "code",
      "source": [
        "print(x)"
      ],
      "metadata": {
        "colab": {
          "base_uri": "https://localhost:8080/"
        },
        "id": "UOM0WEWRjeRO",
        "outputId": "0a2bc0de-9020-4f94-8444-f65983308f88"
      },
      "execution_count": 70,
      "outputs": [
        {
          "output_type": "stream",
          "name": "stdout",
          "text": [
            "[[ 0  1  2  3  4  5  6  7  8  9]\n",
            " [10 11 12 13 14 15 16 17 18 19]\n",
            " [20 21 22 23 24 25 26 27 28 29]]\n"
          ]
        }
      ]
    },
    {
      "cell_type": "code",
      "source": [
        "y=a.reshape(1,30)"
      ],
      "metadata": {
        "id": "iWmafojTjfpv"
      },
      "execution_count": 71,
      "outputs": []
    },
    {
      "cell_type": "code",
      "source": [
        "print(y)"
      ],
      "metadata": {
        "colab": {
          "base_uri": "https://localhost:8080/"
        },
        "id": "GZLDplSZju1l",
        "outputId": "1ed25bca-1e9d-4018-826c-d7b456af0585"
      },
      "execution_count": 72,
      "outputs": [
        {
          "output_type": "stream",
          "name": "stdout",
          "text": [
            "[[ 0  1  2  3  4  5  6  7  8  9 10 11 12 13 14 15 16 17 18 19 20 21 22 23\n",
            "  24 25 26 27 28 29]]\n"
          ]
        }
      ]
    },
    {
      "cell_type": "code",
      "source": [],
      "metadata": {
        "id": "Gw8jDJuMjy1X"
      },
      "execution_count": null,
      "outputs": []
    }
  ]
}