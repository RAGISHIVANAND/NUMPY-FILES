{
  "nbformat": 4,
  "nbformat_minor": 0,
  "metadata": {
    "colab": {
      "provenance": [],
      "authorship_tag": "ABX9TyMoyduOZ/cYcMjk9Z9vsSll",
      "include_colab_link": true
    },
    "kernelspec": {
      "name": "python3",
      "display_name": "Python 3"
    },
    "language_info": {
      "name": "python"
    }
  },
  "cells": [
    {
      "cell_type": "markdown",
      "metadata": {
        "id": "view-in-github",
        "colab_type": "text"
      },
      "source": [
        "<a href=\"https://colab.research.google.com/github/RAGISHIVANAND/NUMPY-FILES/blob/main/INTRODUCTION_TO_NUMPY_365_DATA_SCIENCE_SCETION_1.ipynb\" target=\"_parent\"><img src=\"https://colab.research.google.com/assets/colab-badge.svg\" alt=\"Open In Colab\"/></a>"
      ]
    },
    {
      "cell_type": "markdown",
      "source": [
        "NUMPY BASICS\n",
        "\n",
        "INSTALLING AND UPDATING PACKAGE\n",
        "\n",
        "NUMPY COMES PRE INSTALLED IF YOU ARE USING ANACONDA OR GOOGLE COLABS:\n",
        "pip install numpy\n",
        "\n",
        "To get the latest version:pip install numpy--upgrade"
      ],
      "metadata": {
        "id": "OIPPCPUYV9hO"
      }
    },
    {
      "cell_type": "markdown",
      "source": [
        "# ***IMPORTING NUMPY***"
      ],
      "metadata": {
        "id": "MNwQmx8PWjTb"
      }
    },
    {
      "cell_type": "code",
      "execution_count": 3,
      "metadata": {
        "colab": {
          "base_uri": "https://localhost:8080/"
        },
        "id": "cmefTJZ2VbiY",
        "outputId": "5eacafb0-0ea7-45a3-fb1e-ff8d4eab49f8"
      },
      "outputs": [
        {
          "output_type": "stream",
          "name": "stdout",
          "text": [
            "Requirement already satisfied: numpy in /usr/local/lib/python3.10/dist-packages (1.22.4)\n"
          ]
        }
      ],
      "source": [
        "pip install numpy"
      ]
    },
    {
      "cell_type": "markdown",
      "source": [],
      "metadata": {
        "id": "MO7JlF19Wny1"
      }
    },
    {
      "cell_type": "code",
      "source": [
        "pip install numpy --upgrade"
      ],
      "metadata": {
        "colab": {
          "base_uri": "https://localhost:8080/",
          "height": 349
        },
        "id": "TR1y9PyVVvr9",
        "outputId": "fbb090aa-bdb1-4643-92c1-a0791978a719"
      },
      "execution_count": 4,
      "outputs": [
        {
          "output_type": "stream",
          "name": "stdout",
          "text": [
            "Requirement already satisfied: numpy in /usr/local/lib/python3.10/dist-packages (1.22.4)\n",
            "Collecting numpy\n",
            "  Downloading numpy-1.25.1-cp310-cp310-manylinux_2_17_x86_64.manylinux2014_x86_64.whl (17.6 MB)\n",
            "\u001b[2K     \u001b[90m━━━━━━━━━━━━━━━━━━━━━━━━━━━━━━━━━━━━━━━━\u001b[0m \u001b[32m17.6/17.6 MB\u001b[0m \u001b[31m45.8 MB/s\u001b[0m eta \u001b[36m0:00:00\u001b[0m\n",
            "\u001b[?25hInstalling collected packages: numpy\n",
            "  Attempting uninstall: numpy\n",
            "    Found existing installation: numpy 1.22.4\n",
            "    Uninstalling numpy-1.22.4:\n",
            "      Successfully uninstalled numpy-1.22.4\n",
            "\u001b[31mERROR: pip's dependency resolver does not currently take into account all the packages that are installed. This behaviour is the source of the following dependency conflicts.\n",
            "numba 0.56.4 requires numpy<1.24,>=1.18, but you have numpy 1.25.1 which is incompatible.\n",
            "tensorflow 2.12.0 requires numpy<1.24,>=1.22, but you have numpy 1.25.1 which is incompatible.\u001b[0m\u001b[31m\n",
            "\u001b[0mSuccessfully installed numpy-1.25.1\n"
          ]
        },
        {
          "output_type": "display_data",
          "data": {
            "application/vnd.colab-display-data+json": {
              "pip_warning": {
                "packages": [
                  "numpy"
                ]
              }
            }
          },
          "metadata": {}
        }
      ]
    },
    {
      "cell_type": "markdown",
      "source": [],
      "metadata": {
        "id": "2ks7neSFWpml"
      }
    },
    {
      "cell_type": "code",
      "source": [
        "import numpy as np\n"
      ],
      "metadata": {
        "id": "kK8GbnFXW8qO"
      },
      "execution_count": 5,
      "outputs": []
    },
    {
      "cell_type": "markdown",
      "source": [
        "# ***USING NUMPY***"
      ],
      "metadata": {
        "id": "qSwU3oOQXCGk"
      }
    },
    {
      "cell_type": "markdown",
      "source": [
        "1-D array"
      ],
      "metadata": {
        "id": "l_FrI3e4X5tO"
      }
    },
    {
      "cell_type": "code",
      "source": [
        "array_a=np.array([1,2,3])"
      ],
      "metadata": {
        "id": "jasGwfFKWduA"
      },
      "execution_count": 6,
      "outputs": []
    },
    {
      "cell_type": "code",
      "source": [
        "array_a"
      ],
      "metadata": {
        "colab": {
          "base_uri": "https://localhost:8080/"
        },
        "id": "g7icf48VW22n",
        "outputId": "bfc762ab-1ed4-44fd-d00b-5a6f9d6c0826"
      },
      "execution_count": 7,
      "outputs": [
        {
          "output_type": "execute_result",
          "data": {
            "text/plain": [
              "array([1, 2, 3])"
            ]
          },
          "metadata": {},
          "execution_count": 7
        }
      ]
    },
    {
      "cell_type": "markdown",
      "source": [
        "2-D *array*"
      ],
      "metadata": {
        "id": "kYE2rtj0a1j9"
      }
    },
    {
      "cell_type": "code",
      "source": [
        "array_b=np.array([[1,2,3],[4,5,6]])"
      ],
      "metadata": {
        "id": "3kxwS9-7XeDg"
      },
      "execution_count": 8,
      "outputs": []
    },
    {
      "cell_type": "code",
      "source": [
        "array_b"
      ],
      "metadata": {
        "colab": {
          "base_uri": "https://localhost:8080/"
        },
        "id": "lyh3mMCZbDJC",
        "outputId": "d62d62d6-61a1-403f-f6e8-1e9a7e3bbebf"
      },
      "execution_count": 9,
      "outputs": [
        {
          "output_type": "execute_result",
          "data": {
            "text/plain": [
              "array([[1, 2, 3],\n",
              "       [4, 5, 6]])"
            ]
          },
          "metadata": {},
          "execution_count": 9
        }
      ]
    },
    {
      "cell_type": "markdown",
      "source": [
        "# ***NUMPY DOCUMENTATION***\n",
        "\n",
        "https://numpy.org/doc/"
      ],
      "metadata": {
        "id": "XCa-qwvO-nh-"
      }
    },
    {
      "cell_type": "code",
      "source": [
        "np.mean (array_b,axis=0)"
      ],
      "metadata": {
        "id": "5EfrEbEobEVF",
        "colab": {
          "base_uri": "https://localhost:8080/"
        },
        "outputId": "86daab77-30b6-4a58-dc64-1588796f205c"
      },
      "execution_count": 10,
      "outputs": [
        {
          "output_type": "execute_result",
          "data": {
            "text/plain": [
              "array([2.5, 3.5, 4.5])"
            ]
          },
          "metadata": {},
          "execution_count": 10
        }
      ]
    },
    {
      "cell_type": "code",
      "source": [],
      "metadata": {
        "id": "-ho029P9_A4f"
      },
      "execution_count": 10,
      "outputs": []
    }
  ]
}